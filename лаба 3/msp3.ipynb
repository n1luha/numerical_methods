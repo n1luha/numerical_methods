{
 "cells": [
  {
   "cell_type": "code",
   "execution_count": null,
   "metadata": {},
   "outputs": [],
   "source": [
    "import numpy as np\n",
    "import matplotlib.pyplot as plt"
   ]
  },
  {
   "cell_type": "markdown",
   "metadata": {},
   "source": [
    "Определение функции"
   ]
  },
  {
   "cell_type": "code",
   "execution_count": null,
   "metadata": {},
   "outputs": [],
   "source": [
    "def f(x):\n",
    "    return np.power(x, 5) - k * np.power(x, 3) + 5.5 * np.power(x, 2) - 7 * x"
   ]
  },
  {
   "cell_type": "markdown",
   "metadata": {},
   "source": [
    "Метод средних прямоугольников"
   ]
  },
  {
   "cell_type": "code",
   "execution_count": null,
   "metadata": {},
   "outputs": [],
   "source": [
    "def midpoint_rule(a, b, n):\n",
    "    h = (b - a) / n\n",
    "    integral = 0\n",
    "    for i in range(n):\n",
    "        x_mid = a + (i + 0.5) * h\n",
    "        integral += f(x_mid)\n",
    "\n",
    "    integral *= h\n",
    "    return integral"
   ]
  },
  {
   "cell_type": "markdown",
   "metadata": {},
   "source": [
    "Параметры интегрирования"
   ]
  },
  {
   "cell_type": "code",
   "execution_count": null,
   "metadata": {},
   "outputs": [],
   "source": [
    "a = 0\n",
    "b = 2\n",
    "integral = -25.4666666667\n",
    "k = 9.2"
   ]
  },
  {
   "cell_type": "markdown",
   "metadata": {},
   "source": [
    "Программа для вычисления интеграла с заданной точностью с использованием правила Рунге"
   ]
  },
  {
   "cell_type": "code",
   "execution_count": null,
   "metadata": {},
   "outputs": [],
   "source": [
    "def midpoint_rule_with_rung(a, b, eps, max_iter=1000):\n",
    "    n = 5\n",
    "    int_prev = midpoint_rule(a, b, n)\n",
    "\n",
    "    for it in range(1, max_iter + 1):\n",
    "        n *= 2\n",
    "        int_new = midpoint_rule(a, b, n)\n",
    "        error = np.abs(int_new - int_prev) / 3\n",
    "\n",
    "        if error < eps:\n",
    "            return int_new, it, error\n",
    "\n",
    "        int_prev = int_new\n",
    "\n",
    "    return int_new, max_iter, error\n",
    "\n",
    "epsilons = [10 ** (-i) for i in range(1, 11)]"
   ]
  },
  {
   "cell_type": "markdown",
   "metadata": {},
   "source": [
    "Вычисление интеграла с заданной точностью"
   ]
  },
  {
   "cell_type": "code",
   "execution_count": null,
   "metadata": {},
   "outputs": [],
   "source": [
    "errors= []\n",
    "iters = []\n",
    "for eps in epsilons:\n",
    "    int, it, error = midpoint_rule_with_rung(a, b, eps, max_iter=1000)\n",
    "    errors.append(error)\n",
    "    iters.append(it)"
   ]
  },
  {
   "cell_type": "markdown",
   "metadata": {},
   "source": [
    "График зависимости фактической ошибки от заданной точности "
   ]
  },
  {
   "cell_type": "code",
   "execution_count": null,
   "metadata": {},
   "outputs": [],
   "source": [
    "plt.figure(figsize=(10, 10))\n",
    "plt.loglog(epsilons, errors, 'o-', label='Ошибка')\n",
    "plt.loglog(epsilons, epsilons, 'k--', label='Бисектриса')\n",
    "plt.xlabel('Заданная точность')\n",
    "plt.ylabel('Фактическая ошибка')\n",
    "plt.title('Зависимость фактической ошибки от заданной точности')\n",
    "plt.legend()\n",
    "plt.grid()"
   ]
  },
  {
   "cell_type": "markdown",
   "metadata": {},
   "source": [
    "График зависимости числа итераций от заданной точности"
   ]
  },
  {
   "cell_type": "code",
   "execution_count": null,
   "metadata": {},
   "outputs": [],
   "source": [
    "plt.figure(figsize=(10, 10))\n",
    "plt.semilogx(epsilons, iters, 'o-', label='Итерации')\n",
    "plt.xlabel('Заданная точность')\n",
    "plt.ylabel('Число итераций')\n",
    "plt.title('Зависимость числа итераций от заданной точности')\n",
    "plt.legend()\n",
    "plt.grid()"
   ]
  },
  {
   "cell_type": "markdown",
   "metadata": {},
   "source": [
    "График фактической ошибки от длины отрезка разбиения"
   ]
  },
  {
   "cell_type": "code",
   "execution_count": null,
   "metadata": {},
   "outputs": [],
   "source": [
    "ns = [5 * (2 ** i) for i in range(10)]\n",
    "hs = [(b - a) / n for n in ns]\n",
    "errors_h = []\n",
    "for n in ns:\n",
    "    int = midpoint_rule(a, b, n)\n",
    "    errors_h.append(np.abs(int - integral))\n",
    "plt.figure(figsize=(10, 10))\n",
    "plt.loglog(hs, errors_h, 'o-', label='Ошибка', base=2)\n",
    "plt.xlabel('Длина отрезка разбиения')\n",
    "plt.ylabel('Фактическая ошибка')\n",
    "plt.title('Зависимость фактической ошибки от длины отрезка разбиения')\n",
    "plt.legend()\n",
    "plt.grid()"
   ]
  },
  {
   "cell_type": "markdown",
   "metadata": {},
   "source": [
    "Определение порядка точности и константы"
   ]
  },
  {
   "cell_type": "code",
   "execution_count": null,
   "metadata": {},
   "outputs": [],
   "source": [
    "log_hs = np.log2(hs)\n",
    "\n",
    "log_errors = np.log2(errors_h)\n",
    "order, const = np.polyfit(log_hs, log_errors, 1)\n",
    "\n",
    "print(f'Порядок точности для f(x): {order}, константа: {2 ** const}')"
   ]
  },
  {
   "cell_type": "markdown",
   "metadata": {},
   "source": [
    "Внесение погрешности в константу и вычисление относительной ошибки"
   ]
  },
  {
   "cell_type": "code",
   "execution_count": null,
   "metadata": {},
   "outputs": [],
   "source": [
    "def add_perturbation(k, perturbation_percent):\n",
    "    perturbation = k * (perturbation_percent / 100)\n",
    "    return k + np.random.uniform(-perturbation, perturbation)\n",
    "\n",
    "perturbation_levels = [1, 2, 3]\n",
    "num = 20\n",
    "\n",
    "results = {level: [] for level in perturbation_levels}\n",
    "\n",
    "for level in perturbation_levels:\n",
    "    for _ in range(num):\n",
    "        perturbed_const = add_perturbation(k, level)\n",
    "        relative_error = abs(perturbed_const - k) / k\n",
    "        results[level].append(np.abs(relative_error * 100))\n",
    "\n",
    "plt.figure(figsize=(10, 6))\n",
    "plt.boxplot([results[level] for level in perturbation_levels], labels=[f'{level}%' for level in perturbation_levels])\n",
    "plt.xlabel('Среднее фактическое возмущение данных, %')\n",
    "plt.ylabel('Относительная ошибка, %')\n",
    "plt.title('Зависимость относительной ошибки от уровня возмущения')\n",
    "plt.grid()\n"
   ]
  }
 ],
 "metadata": {
  "kernelspec": {
   "display_name": "Python 3",
   "language": "python",
   "name": "python3"
  },
  "language_info": {
   "codemirror_mode": {
    "name": "ipython",
    "version": 3
   },
   "file_extension": ".py",
   "mimetype": "text/x-python",
   "name": "python",
   "nbconvert_exporter": "python",
   "pygments_lexer": "ipython3",
   "version": "3.8.2"
  }
 },
 "nbformat": 4,
 "nbformat_minor": 2
}
