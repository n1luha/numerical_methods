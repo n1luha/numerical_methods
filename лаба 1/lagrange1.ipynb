{
 "cells": [
  {
   "cell_type": "markdown",
   "metadata": {},
   "source": [
    "Библиотеки"
   ]
  },
  {
   "cell_type": "code",
   "execution_count": null,
   "metadata": {},
   "outputs": [],
   "source": [
    "import numpy as np\n",
    "import matplotlib.pyplot as plt"
   ]
  },
  {
   "cell_type": "markdown",
   "metadata": {},
   "source": [
    "1.1 Определение функции 1"
   ]
  },
  {
   "cell_type": "code",
   "execution_count": null,
   "metadata": {},
   "outputs": [],
   "source": [
    "def f1(x):\n",
    "    return np.log10(x + 2) + x"
   ]
  },
  {
   "cell_type": "markdown",
   "metadata": {},
   "source": [
    "1.2 Определение функции 2"
   ]
  },
  {
   "cell_type": "code",
   "execution_count": null,
   "metadata": {},
   "outputs": [],
   "source": [
    "def f2(x):\n",
    "    return np.power(x, 3) - 0.1 * np.power(x, 2) + 0.4 * np.abs(x) + 2"
   ]
  },
  {
   "cell_type": "markdown",
   "metadata": {},
   "source": [
    "2.1 Создание равномерной сетки"
   ]
  },
  {
   "cell_type": "code",
   "execution_count": null,
   "metadata": {},
   "outputs": [],
   "source": [
    "def uniform_grid(a, b, n):\n",
    "    return np.linspace(a, b, n)"
   ]
  },
  {
   "cell_type": "markdown",
   "metadata": {},
   "source": [
    "2.2 Создание Чебышевской сетки"
   ]
  },
  {
   "cell_type": "code",
   "execution_count": null,
   "metadata": {},
   "outputs": [],
   "source": [
    "def chebyshev_grid(a, b, n):\n",
    "    k = np.arange(n)\n",
    "    nodes = np.cos((2 * k + 1) * np.pi / (2 * n))\n",
    "    return 0.5 * (a + b) + 0.5 * (b - a) * nodes"
   ]
  },
  {
   "cell_type": "markdown",
   "metadata": {},
   "source": [
    "3. Базисные полиномы Лагранжа"
   ]
  },
  {
   "cell_type": "code",
   "execution_count": null,
   "metadata": {},
   "outputs": [],
   "source": [
    "def lagrange_basis(x, xt, k):\n",
    "    return np.prod([(x - xt[i]) / (xt[k] - xt[i]) for i in range(len(xt)) if i != k], axis=0)"
   ]
  },
  {
   "cell_type": "markdown",
   "metadata": {},
   "source": [
    "4. Интерполяционный полином Лагранжа"
   ]
  },
  {
   "cell_type": "code",
   "execution_count": null,
   "metadata": {},
   "outputs": [],
   "source": [
    "def lagrange_polinom(x, xt, yt):\n",
    "    return sum(yt[k] * lagrange_basis(x, xt, k) for k in range(len(xt)))"
   ]
  },
  {
   "cell_type": "markdown",
   "metadata": {},
   "source": [
    "5. Вспомогательная функция для выбора сетки"
   ]
  },
  {
   "cell_type": "code",
   "execution_count": null,
   "metadata": {},
   "outputs": [],
   "source": [
    "def select_grid(grid_type, a, b, n):\n",
    "    if grid_type == 'uniform':\n",
    "        return uniform_grid(a, b, n)\n",
    "    elif grid_type == 'chebyshev':\n",
    "        return chebyshev_grid(a, b, n)\n",
    "    else:\n",
    "        raise ValueError(f\"Неверный тип сетки. Используйте 'uniform' или 'chebyshev'.\")"
   ]
  },
  {
   "cell_type": "markdown",
   "metadata": {},
   "source": [
    "6. Построение графиков интерполяции"
   ]
  },
  {
   "cell_type": "code",
   "execution_count": null,
   "metadata": {},
   "outputs": [],
   "source": [
    "def plot_int(f, a, b, n_val, grid_type):\n",
    "    x_plot = np.linspace(a, b, 1000)\n",
    "    y_plot = f(x_plot)\n",
    "\n",
    "    plt.figure(figsize=(21, 8))\n",
    "    plt.plot(x_plot, y_plot, label='Исходная функция', color='black', linewidth=2)\n",
    "\n",
    "    colors = ['blue', 'green', 'red']\n",
    "    for i, n in enumerate(n_val):\n",
    "        xt, yt = select_grid(grid_type, a, b, n), f(select_grid(grid_type, a, b, n))\n",
    "        y_int = np.array([lagrange_polinom(x, xt, yt) for x in x_plot])\n",
    "\n",
    "        plt.plot(x_plot, y_int, color=colors[i], linestyle='--', label=f'n = {n}')\n",
    "        plt.scatter(xt, yt, color=colors[i])\n",
    "    plt.legend()\n",
    "    plt.title(f'Интерполяция полиномом Лагранжа ({grid_type} сетка)')\n",
    "    plt.xlabel('x')\n",
    "    plt.ylabel('y')\n",
    "    plt.grid()"
   ]
  },
  {
   "cell_type": "markdown",
   "metadata": {},
   "source": [
    "7. Построение поточечной ошибки интерполяции и графика теоретической ошибки"
   ]
  },
  {
   "cell_type": "code",
   "execution_count": null,
   "metadata": {},
   "outputs": [],
   "source": [
    "def plot_error(f, a, b, n_val, grid_type):\n",
    "    if f == f1:\n",
    "        x_plot = np.linspace(a, b, 1000)\n",
    "    else:\n",
    "        x_plot = np.linspace(a, b, 100)\n",
    "    y_plot = f(x_plot)\n",
    "\n",
    "    plt.figure(figsize=(21, 8))\n",
    "\n",
    "    colors = ['blue', 'green', 'red']\n",
    "    for i, n in enumerate(n_val):\n",
    "        xt, yt = select_grid(grid_type, a, b, n), f(select_grid(grid_type, a, b, n))\n",
    "        y_int = np.array([lagrange_polinom(x, xt, yt) for x in x_plot])\n",
    "        error = np.abs(y_plot - y_int)\n",
    "\n",
    "        plt.plot(x_plot, error, color=colors[i], linestyle='-', label=f'Ошибка при n = {n}')\n",
    "\n",
    "    omega = np.prod([(x_plot - xi) for xi in xt], axis=0)\n",
    "    error_theor = 0.0005 * np.abs(omega) / np.math.factorial(4 + 1)\n",
    "\n",
    "    if f == f1:\n",
    "        plt.plot(x_plot, error_theor, color='purple', linestyle='dotted', label=f'Теоретическая ошибка')\n",
    "    plt.legend()\n",
    "    plt.title(f'Ошибка интерполяции ({grid_type} сетка)')\n",
    "    plt.xlabel('x')\n",
    "    plt.ylabel('y')\n",
    "    plt.grid()"
   ]
  },
  {
   "cell_type": "markdown",
   "metadata": {},
   "source": [
    "8. Построение зависимости ошибки от количества узлов"
   ]
  },
  {
   "cell_type": "code",
   "execution_count": null,
   "metadata": {},
   "outputs": [],
   "source": [
    "def max_error(f, a, b, n, grid_type):\n",
    "    x_plot = np.linspace(a, b, 1000)\n",
    "    y_plot = f(x_plot)\n",
    "\n",
    "    xt, yt = select_grid(grid_type, a, b, n), f(select_grid(grid_type, a, b, n))\n",
    "    y_int = np.array([lagrange_polinom(x, xt, yt) for x in x_plot])\n",
    "    return np.max(np.abs(y_plot - y_int))\n",
    "\n",
    "def plot_error_nodes(f, a, b, n_range, grid_type='uniform'):\n",
    "    errors = [max_error(f, a, b, n, grid_type) for n in n_range]\n",
    "\n",
    "    plt.figure(figsize=(21, 8))\n",
    "    plt.plot(n_range, errors, marker='o', linestyle='-', color='blue')\n",
    "    plt.title(f'Зависимость ошибки от количества узлов ({grid_type} сетка)')\n",
    "    plt.xlabel('Количество узлов')\n",
    "    plt.ylabel('Максимальная ошибка')\n",
    "    plt.yscale('log')\n",
    "    plt.grid()"
   ]
  },
  {
   "cell_type": "markdown",
   "metadata": {},
   "source": [
    "9. Построение графиков зависимости ошибки от количества узлов в выбранных точках"
   ]
  },
  {
   "cell_type": "code",
   "execution_count": null,
   "metadata": {},
   "outputs": [],
   "source": [
    "def error_at_points(f, a, b, n_range, grid_type):\n",
    "    x_plot = np.linspace(a, b, 1000)\n",
    "    y_plot = f(x_plot)\n",
    "\n",
    "    point1 = x_plot[100]\n",
    "    point2 = x_plot[-100]\n",
    "\n",
    "    errors_point1 = []\n",
    "    errors_point2 = []\n",
    "\n",
    "    for n in n_range:\n",
    "        xt, yt = select_grid(grid_type, a, b, n), f(select_grid(grid_type, a, b, n))\n",
    "        y_int1 = lagrange_polinom(np.array([point1]), xt, yt)\n",
    "        y_int2 = lagrange_polinom(np.array([point2]), xt, yt)\n",
    "        error1 = np.abs(f(point1) - y_int1[0])\n",
    "        error2 = np.abs(f(point2) - y_int2[0])\n",
    "\n",
    "        errors_point1.append(error1)\n",
    "        errors_point2.append(error2)\n",
    "\n",
    "    return point1, point2, errors_point1, errors_point2\n",
    "\n",
    "def plot_errors_at_points(f, a, b, n_range, grid_type='uniform'):\n",
    "    point1, point2, errors_point1, errors_point2 = error_at_points(f, a, b, n_range, grid_type)\n",
    "\n",
    "    plt.figure(figsize=(21, 8))\n",
    "    plt.subplot(1, 2, 1)\n",
    "    plt.plot(n_range, errors_point1, marker='o', linestyle='-', color='blue')\n",
    "    plt.title(f'Ошибка в точке х = {point1:.2f} ({grid_type} сетка)')\n",
    "    plt.xlabel('Количество узлов')\n",
    "    plt.ylabel('Ошибка')\n",
    "    plt.yscale('log')\n",
    "    plt.grid()\n",
    "\n",
    "    plt.subplot(1, 2, 2)\n",
    "    plt.plot(n_range, errors_point2, marker='o', linestyle='-', color='red')\n",
    "    plt.title(f'Ошибка в точке х = {point2:.2f} ({grid_type} сетка)')\n",
    "    plt.xlabel('Количество узлов')\n",
    "    plt.ylabel('Ошибка')\n",
    "    plt.yscale('log')\n",
    "    plt.grid()\n",
    "\n",
    "    plt.tight_layout()"
   ]
  },
  {
   "cell_type": "markdown",
   "metadata": {},
   "source": [
    "10. Проведение эксперимента с возмущением данных"
   ]
  },
  {
   "cell_type": "code",
   "execution_count": null,
   "metadata": {},
   "outputs": [],
   "source": [
    "def relative_error(f, a, b, xt, yt_noisy):\n",
    "    x_plot = np.linspace(a, b, 1000)\n",
    "    y_plot = f(x_plot)\n",
    "    y_int = np.array([lagrange_polinom(x, xt, yt_noisy) for x in x_plot])\n",
    "\n",
    "    return np.max(np.abs(y_plot - y_int) / np.abs(y_plot + 1e-10))\n",
    "\n",
    "def experiment_noise(f, a, b, n, perturb_levels, grid_type, num=20):\n",
    "    xt, yt = select_grid(grid_type, a, b, n), f(select_grid(grid_type, a, b, n))\n",
    "    results = {level: {'actual_perturb': [], 'errors': []} for level in perturb_levels}\n",
    "\n",
    "    for level in perturb_levels:\n",
    "        for _ in range(num):\n",
    "            perturb = np.random.uniform(-level, level, size=len(yt))\n",
    "            yt_noisy = yt * (1 + perturb)\n",
    "            results[level]['actual_perturb'].append(np.max(np.abs(perturb)))\n",
    "            results[level]['errors'].append(relative_error(f, a, b, xt, yt_noisy))\n",
    "\n",
    "    return results\n",
    "\n",
    "def plot_noise_error(results, perturb_levels):\n",
    "    plt.figure(figsize=(21, 8))\n",
    "    boxplot_data, x_ticks = [], []\n",
    "\n",
    "    for level in perturb_levels:\n",
    "        boxplot_data.append(results[level]['errors'])\n",
    "        x_ticks.append(round(np.max(results[level]['actual_perturb']), 4))\n",
    "    x_ticks = [round(l * 100) for l in x_ticks]\n",
    "\n",
    "    plt.boxplot(boxplot_data, positions=x_ticks, widths=0.05, showfliers=False)\n",
    "    plt.title('Зависимость ошибки интерполяции от возмущения данных')\n",
    "    plt.xlabel('Максимальное фактическое возмущение данных, %')\n",
    "    plt.ylabel('Относительная ошибка интерполяции, %')\n",
    "    plt.xlim(-0.5, 5.5)\n",
    "    plt.grid()"
   ]
  },
  {
   "cell_type": "markdown",
   "metadata": {},
   "source": [
    "Основная программа"
   ]
  },
  {
   "cell_type": "code",
   "execution_count": null,
   "metadata": {},
   "outputs": [],
   "source": [
    "a, b = 0, 10\n",
    "n_val = [4, 7, 10]\n",
    "n_range = range(5, 51)\n",
    "perturb_levels = [0.01, 0.02, 0.03, 0.04, 0.05]\n",
    "\n",
    "for f in [f1, f2]:\n",
    "    for grid in ['uniform', 'chebyshev']:\n",
    "        plot_int(f, a, b, n_val, grid)\n",
    "        plot_error(f, a, b, n_val, grid)\n",
    "        plot_error_nodes(f, a, b, n_range, grid)\n",
    "        plot_errors_at_points(f, a, b, n_range, grid)"
   ]
  },
  {
   "cell_type": "markdown",
   "metadata": {},
   "source": [
    "Дополнительное исследование"
   ]
  },
  {
   "cell_type": "code",
   "execution_count": null,
   "metadata": {},
   "outputs": [],
   "source": [
    "results1 = experiment_noise(f1, a, b, 10, perturb_levels, grid_type='uniform')\n",
    "results2 = experiment_noise(f1, a, b, 10, perturb_levels, grid_type='chebyshev')\n",
    "results3 = experiment_noise(f2, a, b, 10, perturb_levels, grid_type='uniform')\n",
    "results4 = experiment_noise(f2, a, b, 10, perturb_levels, grid_type='chebyshev')\n",
    "plot_noise_error(results1, perturb_levels)\n",
    "plot_noise_error(results2, perturb_levels)\n",
    "plot_noise_error(results3, perturb_levels)\n",
    "plot_noise_error(results4, perturb_levels)"
   ]
  }
 ],
 "metadata": {
  "kernelspec": {
   "display_name": "Python 3",
   "language": "python",
   "name": "python3"
  },
  "language_info": {
   "codemirror_mode": {
    "name": "ipython",
    "version": 3
   },
   "file_extension": ".py",
   "mimetype": "text/x-python",
   "name": "python",
   "nbconvert_exporter": "python",
   "pygments_lexer": "ipython3",
   "version": "3.8.2"
  }
 },
 "nbformat": 4,
 "nbformat_minor": 2
}
